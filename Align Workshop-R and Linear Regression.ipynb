{
 "cells": [
  {
   "cell_type": "markdown",
   "metadata": {},
   "source": [
    "# Align Workshop 2- R and Linear Regression"
   ]
  },
  {
   "cell_type": "markdown",
   "metadata": {},
   "source": [
    "## Introduction to R"
   ]
  },
  {
   "cell_type": "markdown",
   "metadata": {},
   "source": [
    "### Basic Assignment"
   ]
  },
  {
   "cell_type": "markdown",
   "metadata": {},
   "source": [
    "Just like in Python and other programming languages, R allows you to assign values to variables in the following notation. This allows us to store values for later use."
   ]
  },
  {
   "cell_type": "code",
   "execution_count": 2,
   "metadata": {
    "collapsed": false
   },
   "outputs": [],
   "source": [
    "x <- 3\n",
    "4 -> y"
   ]
  },
  {
   "cell_type": "code",
   "execution_count": 3,
   "metadata": {
    "collapsed": false
   },
   "outputs": [
    {
     "data": {
      "text/html": [
       "3"
      ],
      "text/latex": [
       "3"
      ],
      "text/markdown": [
       "3"
      ],
      "text/plain": [
       "[1] 3"
      ]
     },
     "metadata": {},
     "output_type": "display_data"
    }
   ],
   "source": [
    "x"
   ]
  },
  {
   "cell_type": "code",
   "execution_count": 4,
   "metadata": {
    "collapsed": false
   },
   "outputs": [
    {
     "data": {
      "text/html": [
       "4"
      ],
      "text/latex": [
       "4"
      ],
      "text/markdown": [
       "4"
      ],
      "text/plain": [
       "[1] 4"
      ]
     },
     "metadata": {},
     "output_type": "display_data"
    }
   ],
   "source": [
    "y"
   ]
  },
  {
   "cell_type": "code",
   "execution_count": 5,
   "metadata": {
    "collapsed": false
   },
   "outputs": [
    {
     "ename": "ERROR",
     "evalue": "Error in 150.5 <- z: invalid (do_set) left-hand side to assignment\n",
     "output_type": "error",
     "traceback": [
      "Error in 150.5 <- z: invalid (do_set) left-hand side to assignment\nTraceback:\n"
     ]
    }
   ],
   "source": [
    "z -> 150.5"
   ]
  },
  {
   "cell_type": "code",
   "execution_count": 8,
   "metadata": {
    "collapsed": false
   },
   "outputs": [
    {
     "data": {
      "text/html": [
       "10"
      ],
      "text/latex": [
       "10"
      ],
      "text/markdown": [
       "10"
      ],
      "text/plain": [
       "[1] 10"
      ]
     },
     "metadata": {},
     "output_type": "display_data"
    }
   ],
   "source": [
    "new_var <- x + y + 3\n",
    "new_var"
   ]
  },
  {
   "cell_type": "code",
   "execution_count": null,
   "metadata": {
    "collapsed": true
   },
   "outputs": [],
   "source": [
    "#Play around in here with assignment"
   ]
  },
  {
   "cell_type": "markdown",
   "metadata": {
    "collapsed": true
   },
   "source": [
    "### Vectors"
   ]
  },
  {
   "cell_type": "markdown",
   "metadata": {
    "collapsed": true
   },
   "source": [
    "To store a collection of objects, R uses 'vectors'. The easiest way to create a vector is with the c() function that concatenates objects together."
   ]
  },
  {
   "cell_type": "code",
   "execution_count": 42,
   "metadata": {
    "collapsed": false
   },
   "outputs": [
    {
     "data": {
      "text/html": [
       "<ol class=list-inline>\n",
       "\t<li>3</li>\n",
       "\t<li>4</li>\n",
       "\t<li>5.6</li>\n",
       "\t<li>8444</li>\n",
       "</ol>\n"
      ],
      "text/latex": [
       "\\begin{enumerate*}\n",
       "\\item 3\n",
       "\\item 4\n",
       "\\item 5.6\n",
       "\\item 8444\n",
       "\\end{enumerate*}\n"
      ],
      "text/markdown": [
       "1. 3\n",
       "2. 4\n",
       "3. 5.6\n",
       "4. 8444\n",
       "\n",
       "\n"
      ],
      "text/plain": [
       "[1]    3.0    4.0    5.6 8444.0"
      ]
     },
     "metadata": {},
     "output_type": "display_data"
    }
   ],
   "source": [
    "c(3,4,5.6,8444)"
   ]
  },
  {
   "cell_type": "code",
   "execution_count": 43,
   "metadata": {
    "collapsed": true
   },
   "outputs": [],
   "source": [
    "x<- c(3,4,5.6,8444)"
   ]
  },
  {
   "cell_type": "code",
   "execution_count": 44,
   "metadata": {
    "collapsed": false
   },
   "outputs": [
    {
     "data": {
      "text/html": [
       "<ol class=list-inline>\n",
       "\t<li>3</li>\n",
       "\t<li>4</li>\n",
       "\t<li>5.6</li>\n",
       "\t<li>8444</li>\n",
       "</ol>\n"
      ],
      "text/latex": [
       "\\begin{enumerate*}\n",
       "\\item 3\n",
       "\\item 4\n",
       "\\item 5.6\n",
       "\\item 8444\n",
       "\\end{enumerate*}\n"
      ],
      "text/markdown": [
       "1. 3\n",
       "2. 4\n",
       "3. 5.6\n",
       "4. 8444\n",
       "\n",
       "\n"
      ],
      "text/plain": [
       "[1]    3.0    4.0    5.6 8444.0"
      ]
     },
     "metadata": {},
     "output_type": "display_data"
    }
   ],
   "source": [
    "x"
   ]
  },
  {
   "cell_type": "code",
   "execution_count": 45,
   "metadata": {
    "collapsed": false
   },
   "outputs": [
    {
     "data": {
      "text/plain": [
       "NULL"
      ]
     },
     "metadata": {},
     "output_type": "display_data"
    }
   ],
   "source": [
    "c()"
   ]
  },
  {
   "cell_type": "code",
   "execution_count": 46,
   "metadata": {
    "collapsed": false
   },
   "outputs": [
    {
     "data": {
      "text/html": [
       "3"
      ],
      "text/latex": [
       "3"
      ],
      "text/markdown": [
       "3"
      ],
      "text/plain": [
       "[1] 3"
      ]
     },
     "metadata": {},
     "output_type": "display_data"
    }
   ],
   "source": [
    "x[1]"
   ]
  },
  {
   "cell_type": "code",
   "execution_count": 47,
   "metadata": {
    "collapsed": false
   },
   "outputs": [
    {
     "data": {
      "text/html": [
       "<ol class=list-inline>\n",
       "\t<li>3</li>\n",
       "\t<li>4</li>\n",
       "\t<li>5.6</li>\n",
       "\t<li>8444</li>\n",
       "\t<li>NA</li>\n",
       "</ol>\n"
      ],
      "text/latex": [
       "\\begin{enumerate*}\n",
       "\\item 3\n",
       "\\item 4\n",
       "\\item 5.6\n",
       "\\item 8444\n",
       "\\item NA\n",
       "\\end{enumerate*}\n"
      ],
      "text/markdown": [
       "1. 3\n",
       "2. 4\n",
       "3. 5.6\n",
       "4. 8444\n",
       "5. NA\n",
       "\n",
       "\n"
      ],
      "text/plain": [
       "[1]    3.0    4.0    5.6 8444.0     NA"
      ]
     },
     "metadata": {},
     "output_type": "display_data"
    }
   ],
   "source": [
    "x[1:5]"
   ]
  },
  {
   "cell_type": "code",
   "execution_count": 48,
   "metadata": {
    "collapsed": false
   },
   "outputs": [],
   "source": [
    "x[5] <- 1"
   ]
  },
  {
   "cell_type": "code",
   "execution_count": 49,
   "metadata": {
    "collapsed": false
   },
   "outputs": [
    {
     "data": {
      "text/html": [
       "<ol class=list-inline>\n",
       "\t<li>3</li>\n",
       "\t<li>4</li>\n",
       "\t<li>5.6</li>\n",
       "\t<li>8444</li>\n",
       "\t<li>1</li>\n",
       "</ol>\n"
      ],
      "text/latex": [
       "\\begin{enumerate*}\n",
       "\\item 3\n",
       "\\item 4\n",
       "\\item 5.6\n",
       "\\item 8444\n",
       "\\item 1\n",
       "\\end{enumerate*}\n"
      ],
      "text/markdown": [
       "1. 3\n",
       "2. 4\n",
       "3. 5.6\n",
       "4. 8444\n",
       "5. 1\n",
       "\n",
       "\n"
      ],
      "text/plain": [
       "[1]    3.0    4.0    5.6 8444.0    1.0"
      ]
     },
     "metadata": {},
     "output_type": "display_data"
    }
   ],
   "source": [
    "x"
   ]
  },
  {
   "cell_type": "code",
   "execution_count": 50,
   "metadata": {
    "collapsed": true
   },
   "outputs": [],
   "source": [
    "x[8] <- 3"
   ]
  },
  {
   "cell_type": "code",
   "execution_count": 51,
   "metadata": {
    "collapsed": false
   },
   "outputs": [
    {
     "data": {
      "text/html": [
       "<ol class=list-inline>\n",
       "\t<li>3</li>\n",
       "\t<li>4</li>\n",
       "\t<li>5.6</li>\n",
       "\t<li>8444</li>\n",
       "\t<li>1</li>\n",
       "\t<li>NA</li>\n",
       "\t<li>NA</li>\n",
       "\t<li>3</li>\n",
       "</ol>\n"
      ],
      "text/latex": [
       "\\begin{enumerate*}\n",
       "\\item 3\n",
       "\\item 4\n",
       "\\item 5.6\n",
       "\\item 8444\n",
       "\\item 1\n",
       "\\item NA\n",
       "\\item NA\n",
       "\\item 3\n",
       "\\end{enumerate*}\n"
      ],
      "text/markdown": [
       "1. 3\n",
       "2. 4\n",
       "3. 5.6\n",
       "4. 8444\n",
       "5. 1\n",
       "6. NA\n",
       "7. NA\n",
       "8. 3\n",
       "\n",
       "\n"
      ],
      "text/plain": [
       "[1]    3.0    4.0    5.6 8444.0    1.0     NA     NA    3.0"
      ]
     },
     "metadata": {},
     "output_type": "display_data"
    }
   ],
   "source": [
    "x"
   ]
  },
  {
   "cell_type": "code",
   "execution_count": 52,
   "metadata": {
    "collapsed": true
   },
   "outputs": [],
   "source": [
    "x[0] <- 2"
   ]
  },
  {
   "cell_type": "code",
   "execution_count": 53,
   "metadata": {
    "collapsed": false
   },
   "outputs": [
    {
     "data": {
      "text/html": [
       "<ol class=list-inline>\n",
       "\t<li>3</li>\n",
       "\t<li>4</li>\n",
       "\t<li>5.6</li>\n",
       "\t<li>8444</li>\n",
       "\t<li>1</li>\n",
       "\t<li>NA</li>\n",
       "\t<li>NA</li>\n",
       "\t<li>3</li>\n",
       "</ol>\n"
      ],
      "text/latex": [
       "\\begin{enumerate*}\n",
       "\\item 3\n",
       "\\item 4\n",
       "\\item 5.6\n",
       "\\item 8444\n",
       "\\item 1\n",
       "\\item NA\n",
       "\\item NA\n",
       "\\item 3\n",
       "\\end{enumerate*}\n"
      ],
      "text/markdown": [
       "1. 3\n",
       "2. 4\n",
       "3. 5.6\n",
       "4. 8444\n",
       "5. 1\n",
       "6. NA\n",
       "7. NA\n",
       "8. 3\n",
       "\n",
       "\n"
      ],
      "text/plain": [
       "[1]    3.0    4.0    5.6 8444.0    1.0     NA     NA    3.0"
      ]
     },
     "metadata": {},
     "output_type": "display_data"
    }
   ],
   "source": [
    "x"
   ]
  },
  {
   "cell_type": "code",
   "execution_count": 54,
   "metadata": {
    "collapsed": true
   },
   "outputs": [],
   "source": [
    "z <-c(4,5)"
   ]
  },
  {
   "cell_type": "code",
   "execution_count": 55,
   "metadata": {
    "collapsed": false
   },
   "outputs": [
    {
     "data": {
      "text/html": [
       "<ol class=list-inline>\n",
       "\t<li>4</li>\n",
       "\t<li>5</li>\n",
       "</ol>\n"
      ],
      "text/latex": [
       "\\begin{enumerate*}\n",
       "\\item 4\n",
       "\\item 5\n",
       "\\end{enumerate*}\n"
      ],
      "text/markdown": [
       "1. 4\n",
       "2. 5\n",
       "\n",
       "\n"
      ],
      "text/plain": [
       "[1] 4 5"
      ]
     },
     "metadata": {},
     "output_type": "display_data"
    }
   ],
   "source": [
    "z"
   ]
  },
  {
   "cell_type": "code",
   "execution_count": 56,
   "metadata": {
    "collapsed": false
   },
   "outputs": [],
   "source": [
    "y <- x + z"
   ]
  },
  {
   "cell_type": "code",
   "execution_count": 58,
   "metadata": {
    "collapsed": false
   },
   "outputs": [
    {
     "data": {
      "text/html": [
       "<ol class=list-inline>\n",
       "\t<li>7</li>\n",
       "\t<li>9</li>\n",
       "\t<li>9.6</li>\n",
       "\t<li>8449</li>\n",
       "\t<li>5</li>\n",
       "\t<li>NA</li>\n",
       "\t<li>NA</li>\n",
       "\t<li>8</li>\n",
       "</ol>\n"
      ],
      "text/latex": [
       "\\begin{enumerate*}\n",
       "\\item 7\n",
       "\\item 9\n",
       "\\item 9.6\n",
       "\\item 8449\n",
       "\\item 5\n",
       "\\item NA\n",
       "\\item NA\n",
       "\\item 8\n",
       "\\end{enumerate*}\n"
      ],
      "text/markdown": [
       "1. 7\n",
       "2. 9\n",
       "3. 9.6\n",
       "4. 8449\n",
       "5. 5\n",
       "6. NA\n",
       "7. NA\n",
       "8. 8\n",
       "\n",
       "\n"
      ],
      "text/plain": [
       "[1]    7.0    9.0    9.6 8449.0    5.0     NA     NA    8.0"
      ]
     },
     "metadata": {},
     "output_type": "display_data"
    }
   ],
   "source": [
    "y"
   ]
  },
  {
   "cell_type": "code",
   "execution_count": 59,
   "metadata": {
    "collapsed": true
   },
   "outputs": [],
   "source": [
    "mult <- y * 2"
   ]
  },
  {
   "cell_type": "code",
   "execution_count": 60,
   "metadata": {
    "collapsed": false
   },
   "outputs": [
    {
     "data": {
      "text/html": [
       "<ol class=list-inline>\n",
       "\t<li>14</li>\n",
       "\t<li>18</li>\n",
       "\t<li>19.2</li>\n",
       "\t<li>16898</li>\n",
       "\t<li>10</li>\n",
       "\t<li>NA</li>\n",
       "\t<li>NA</li>\n",
       "\t<li>16</li>\n",
       "</ol>\n"
      ],
      "text/latex": [
       "\\begin{enumerate*}\n",
       "\\item 14\n",
       "\\item 18\n",
       "\\item 19.2\n",
       "\\item 16898\n",
       "\\item 10\n",
       "\\item NA\n",
       "\\item NA\n",
       "\\item 16\n",
       "\\end{enumerate*}\n"
      ],
      "text/markdown": [
       "1. 14\n",
       "2. 18\n",
       "3. 19.2\n",
       "4. 16898\n",
       "5. 10\n",
       "6. NA\n",
       "7. NA\n",
       "8. 16\n",
       "\n",
       "\n"
      ],
      "text/plain": [
       "[1]    14.0    18.0    19.2 16898.0    10.0      NA      NA    16.0"
      ]
     },
     "metadata": {},
     "output_type": "display_data"
    }
   ],
   "source": [
    "mult"
   ]
  },
  {
   "cell_type": "code",
   "execution_count": 61,
   "metadata": {
    "collapsed": true
   },
   "outputs": [],
   "source": [
    "combine <- c(1,3, x, y, z)"
   ]
  },
  {
   "cell_type": "code",
   "execution_count": 62,
   "metadata": {
    "collapsed": false
   },
   "outputs": [
    {
     "data": {
      "text/html": [
       "<ol class=list-inline>\n",
       "\t<li>1</li>\n",
       "\t<li>3</li>\n",
       "\t<li>3</li>\n",
       "\t<li>4</li>\n",
       "\t<li>5.6</li>\n",
       "\t<li>8444</li>\n",
       "\t<li>1</li>\n",
       "\t<li>NA</li>\n",
       "\t<li>NA</li>\n",
       "\t<li>3</li>\n",
       "\t<li>7</li>\n",
       "\t<li>9</li>\n",
       "\t<li>9.6</li>\n",
       "\t<li>8449</li>\n",
       "\t<li>5</li>\n",
       "\t<li>NA</li>\n",
       "\t<li>NA</li>\n",
       "\t<li>8</li>\n",
       "\t<li>4</li>\n",
       "\t<li>5</li>\n",
       "</ol>\n"
      ],
      "text/latex": [
       "\\begin{enumerate*}\n",
       "\\item 1\n",
       "\\item 3\n",
       "\\item 3\n",
       "\\item 4\n",
       "\\item 5.6\n",
       "\\item 8444\n",
       "\\item 1\n",
       "\\item NA\n",
       "\\item NA\n",
       "\\item 3\n",
       "\\item 7\n",
       "\\item 9\n",
       "\\item 9.6\n",
       "\\item 8449\n",
       "\\item 5\n",
       "\\item NA\n",
       "\\item NA\n",
       "\\item 8\n",
       "\\item 4\n",
       "\\item 5\n",
       "\\end{enumerate*}\n"
      ],
      "text/markdown": [
       "1. 1\n",
       "2. 3\n",
       "3. 3\n",
       "4. 4\n",
       "5. 5.6\n",
       "6. 8444\n",
       "7. 1\n",
       "8. NA\n",
       "9. NA\n",
       "10. 3\n",
       "11. 7\n",
       "12. 9\n",
       "13. 9.6\n",
       "14. 8449\n",
       "15. 5\n",
       "16. NA\n",
       "17. NA\n",
       "18. 8\n",
       "19. 4\n",
       "20. 5\n",
       "\n",
       "\n"
      ],
      "text/plain": [
       " [1]    1.0    3.0    3.0    4.0    5.6 8444.0    1.0     NA     NA    3.0\n",
       "[11]    7.0    9.0    9.6 8449.0    5.0     NA     NA    8.0    4.0    5.0"
      ]
     },
     "metadata": {},
     "output_type": "display_data"
    }
   ],
   "source": [
    "combine"
   ]
  },
  {
   "cell_type": "code",
   "execution_count": 66,
   "metadata": {
    "collapsed": false
   },
   "outputs": [
    {
     "name": "stderr",
     "output_type": "stream",
     "text": [
      "Warning message in c(1, 2, 3, 4) + c(0, 10, 100):\n",
      "“longer object length is not a multiple of shorter object length”"
     ]
    },
    {
     "data": {
      "text/html": [
       "<ol class=list-inline>\n",
       "\t<li>1</li>\n",
       "\t<li>12</li>\n",
       "\t<li>103</li>\n",
       "\t<li>4</li>\n",
       "</ol>\n"
      ],
      "text/latex": [
       "\\begin{enumerate*}\n",
       "\\item 1\n",
       "\\item 12\n",
       "\\item 103\n",
       "\\item 4\n",
       "\\end{enumerate*}\n"
      ],
      "text/markdown": [
       "1. 1\n",
       "2. 12\n",
       "3. 103\n",
       "4. 4\n",
       "\n",
       "\n"
      ],
      "text/plain": [
       "[1]   1  12 103   4"
      ]
     },
     "metadata": {},
     "output_type": "display_data"
    }
   ],
   "source": [
    "c(1, 2, 3, 4) + c(0, 10, 100)"
   ]
  },
  {
   "cell_type": "markdown",
   "metadata": {
    "collapsed": true
   },
   "source": [
    "### Useful Functions in R"
   ]
  },
  {
   "cell_type": "code",
   "execution_count": 8,
   "metadata": {
    "collapsed": true
   },
   "outputs": [],
   "source": [
    "x <- c(1,2,3,4)"
   ]
  },
  {
   "cell_type": "code",
   "execution_count": 9,
   "metadata": {
    "collapsed": false
   },
   "outputs": [
    {
     "data": {
      "text/html": [
       "4"
      ],
      "text/latex": [
       "4"
      ],
      "text/markdown": [
       "4"
      ],
      "text/plain": [
       "[1] 4"
      ]
     },
     "metadata": {},
     "output_type": "display_data"
    }
   ],
   "source": [
    "length(x)"
   ]
  },
  {
   "cell_type": "code",
   "execution_count": 10,
   "metadata": {
    "collapsed": false
   },
   "outputs": [
    {
     "data": {
      "text/html": [
       "2.5"
      ],
      "text/latex": [
       "2.5"
      ],
      "text/markdown": [
       "2.5"
      ],
      "text/plain": [
       "[1] 2.5"
      ]
     },
     "metadata": {},
     "output_type": "display_data"
    }
   ],
   "source": [
    "mean(x)"
   ]
  },
  {
   "cell_type": "code",
   "execution_count": 11,
   "metadata": {
    "collapsed": false
   },
   "outputs": [
    {
     "data": {
      "text/html": [
       "1.66666666666667"
      ],
      "text/latex": [
       "1.66666666666667"
      ],
      "text/markdown": [
       "1.66666666666667"
      ],
      "text/plain": [
       "[1] 1.666667"
      ]
     },
     "metadata": {},
     "output_type": "display_data"
    }
   ],
   "source": [
    "var(x)"
   ]
  },
  {
   "cell_type": "markdown",
   "metadata": {},
   "source": [
    "## Linear Regression!"
   ]
  },
  {
   "cell_type": "code",
   "execution_count": 17,
   "metadata": {
    "collapsed": false
   },
   "outputs": [],
   "source": [
    "#Do NOT edit this box. Just hit shift-enter\n",
    "galton <- read.csv(file=\"galton.csv\",head=TRUE,sep=\",\")"
   ]
  },
  {
   "cell_type": "code",
   "execution_count": 15,
   "metadata": {
    "collapsed": false
   },
   "outputs": [
    {
     "data": {
      "text/html": [
       "<table>\n",
       "<thead><tr><th></th><th scope=col>Family</th><th scope=col>Father</th><th scope=col>Mother</th><th scope=col>Gender</th><th scope=col>Height</th><th scope=col>Kids</th></tr></thead>\n",
       "<tbody>\n",
       "\t<tr><th scope=row>1</th><td>1   </td><td>78.5</td><td>67  </td><td>M   </td><td>73.2</td><td>4   </td></tr>\n",
       "\t<tr><th scope=row>2</th><td>1   </td><td>78.5</td><td>67  </td><td>F   </td><td>69.2</td><td>4   </td></tr>\n",
       "\t<tr><th scope=row>3</th><td>1   </td><td>78.5</td><td>67  </td><td>F   </td><td>69  </td><td>4   </td></tr>\n",
       "\t<tr><th scope=row>4</th><td>1   </td><td>78.5</td><td>67  </td><td>F   </td><td>69  </td><td>4   </td></tr>\n",
       "\t<tr><th scope=row>5</th><td>2   </td><td>75.5</td><td>66.5</td><td>M   </td><td>73.5</td><td>4   </td></tr>\n",
       "\t<tr><th scope=row>6</th><td>2   </td><td>75.5</td><td>66.5</td><td>M   </td><td>72.5</td><td>4   </td></tr>\n",
       "\t<tr><th scope=row>7</th><td>2   </td><td>75.5</td><td>66.5</td><td>F   </td><td>65.5</td><td>4   </td></tr>\n",
       "\t<tr><th scope=row>8</th><td>2   </td><td>75.5</td><td>66.5</td><td>F   </td><td>65.5</td><td>4   </td></tr>\n",
       "\t<tr><th scope=row>9</th><td>3 </td><td>75</td><td>64</td><td>M </td><td>71</td><td>2 </td></tr>\n",
       "\t<tr><th scope=row>10</th><td>3 </td><td>75</td><td>64</td><td>F </td><td>68</td><td>2 </td></tr>\n",
       "\t<tr><th scope=row>11</th><td>4   </td><td>75  </td><td>64  </td><td>M   </td><td>70.5</td><td>5   </td></tr>\n",
       "\t<tr><th scope=row>12</th><td>4   </td><td>75  </td><td>64  </td><td>M   </td><td>68.5</td><td>5   </td></tr>\n",
       "\t<tr><th scope=row>13</th><td>4 </td><td>75</td><td>64</td><td>F </td><td>67</td><td>5 </td></tr>\n",
       "\t<tr><th scope=row>14</th><td>4   </td><td>75  </td><td>64  </td><td>F   </td><td>64.5</td><td>5   </td></tr>\n",
       "\t<tr><th scope=row>15</th><td>4 </td><td>75</td><td>64</td><td>F </td><td>63</td><td>5 </td></tr>\n",
       "\t<tr><th scope=row>16</th><td>5   </td><td>75  </td><td>58.5</td><td>M   </td><td>72  </td><td>6   </td></tr>\n",
       "\t<tr><th scope=row>17</th><td>5   </td><td>75  </td><td>58.5</td><td>M   </td><td>69  </td><td>6   </td></tr>\n",
       "\t<tr><th scope=row>18</th><td>5   </td><td>75  </td><td>58.5</td><td>M   </td><td>68  </td><td>6   </td></tr>\n",
       "\t<tr><th scope=row>19</th><td>5   </td><td>75  </td><td>58.5</td><td>F   </td><td>66.5</td><td>6   </td></tr>\n",
       "\t<tr><th scope=row>20</th><td>5   </td><td>75  </td><td>58.5</td><td>F   </td><td>62.5</td><td>6   </td></tr>\n",
       "\t<tr><th scope=row>21</th><td>5   </td><td>75  </td><td>58.5</td><td>F   </td><td>62.5</td><td>6   </td></tr>\n",
       "\t<tr><th scope=row>22</th><td>6   </td><td>74  </td><td>68  </td><td>F   </td><td>69.5</td><td>1   </td></tr>\n",
       "\t<tr><th scope=row>23</th><td>7   </td><td>74  </td><td>68  </td><td>M   </td><td>76.5</td><td>6   </td></tr>\n",
       "\t<tr><th scope=row>24</th><td>7 </td><td>74</td><td>68</td><td>M </td><td>74</td><td>6 </td></tr>\n",
       "\t<tr><th scope=row>25</th><td>7 </td><td>74</td><td>68</td><td>M </td><td>73</td><td>6 </td></tr>\n",
       "\t<tr><th scope=row>26</th><td>7 </td><td>74</td><td>68</td><td>M </td><td>73</td><td>6 </td></tr>\n",
       "\t<tr><th scope=row>27</th><td>7   </td><td>74  </td><td>68  </td><td>F   </td><td>70.5</td><td>6   </td></tr>\n",
       "\t<tr><th scope=row>28</th><td>7 </td><td>74</td><td>68</td><td>F </td><td>64</td><td>6 </td></tr>\n",
       "\t<tr><th scope=row>29</th><td>8   </td><td>74  </td><td>66.5</td><td>F   </td><td>70.5</td><td>3   </td></tr>\n",
       "\t<tr><th scope=row>30</th><td>8   </td><td>74  </td><td>66.5</td><td>F   </td><td>68  </td><td>3   </td></tr>\n",
       "\t<tr><th scope=row>⋮</th><td>⋮</td><td>⋮</td><td>⋮</td><td>⋮</td><td>⋮</td><td>⋮</td></tr>\n",
       "\t<tr><th scope=row>869</th><td>198 </td><td>64  </td><td>64  </td><td>M   </td><td>71.5</td><td>7   </td></tr>\n",
       "\t<tr><th scope=row>870</th><td>198</td><td>64 </td><td>64 </td><td>M  </td><td>68 </td><td>7  </td></tr>\n",
       "\t<tr><th scope=row>871</th><td>198 </td><td>64  </td><td>64  </td><td>F   </td><td>65.5</td><td>7   </td></tr>\n",
       "\t<tr><th scope=row>872</th><td>198</td><td>64 </td><td>64 </td><td>F  </td><td>64 </td><td>7  </td></tr>\n",
       "\t<tr><th scope=row>873</th><td>198</td><td>64 </td><td>64 </td><td>F  </td><td>62 </td><td>7  </td></tr>\n",
       "\t<tr><th scope=row>874</th><td>198</td><td>64 </td><td>64 </td><td>F  </td><td>62 </td><td>7  </td></tr>\n",
       "\t<tr><th scope=row>875</th><td>198</td><td>64 </td><td>64 </td><td>F  </td><td>61 </td><td>7  </td></tr>\n",
       "\t<tr><th scope=row>876</th><td>199 </td><td>64  </td><td>64  </td><td>M   </td><td>70.5</td><td>7   </td></tr>\n",
       "\t<tr><th scope=row>877</th><td>199</td><td>64 </td><td>64 </td><td>M  </td><td>68 </td><td>7  </td></tr>\n",
       "\t<tr><th scope=row>878</th><td>199</td><td>64 </td><td>64 </td><td>F  </td><td>67 </td><td>7  </td></tr>\n",
       "\t<tr><th scope=row>879</th><td>199</td><td>64 </td><td>64 </td><td>F  </td><td>65 </td><td>7  </td></tr>\n",
       "\t<tr><th scope=row>880</th><td>199</td><td>64 </td><td>64 </td><td>F  </td><td>64 </td><td>7  </td></tr>\n",
       "\t<tr><th scope=row>881</th><td>199</td><td>64 </td><td>64 </td><td>F  </td><td>64 </td><td>7  </td></tr>\n",
       "\t<tr><th scope=row>882</th><td>199</td><td>64 </td><td>64 </td><td>F  </td><td>60 </td><td>7  </td></tr>\n",
       "\t<tr><th scope=row>883</th><td>200 </td><td>64  </td><td>63  </td><td>M   </td><td>64.5</td><td>1   </td></tr>\n",
       "\t<tr><th scope=row>884</th><td>201</td><td>64 </td><td>60 </td><td>M  </td><td>66 </td><td>2  </td></tr>\n",
       "\t<tr><th scope=row>885</th><td>201</td><td>64 </td><td>60 </td><td>F  </td><td>60 </td><td>2  </td></tr>\n",
       "\t<tr><th scope=row>886</th><td>203</td><td>62 </td><td>66 </td><td>M  </td><td>64 </td><td>3  </td></tr>\n",
       "\t<tr><th scope=row>887</th><td>203</td><td>62 </td><td>66 </td><td>F  </td><td>62 </td><td>3  </td></tr>\n",
       "\t<tr><th scope=row>888</th><td>203</td><td>62 </td><td>66 </td><td>F  </td><td>61 </td><td>3  </td></tr>\n",
       "\t<tr><th scope=row>889</th><td>204 </td><td>62.5</td><td>63  </td><td>M   </td><td>66.5</td><td>2   </td></tr>\n",
       "\t<tr><th scope=row>890</th><td>204 </td><td>62.5</td><td>63  </td><td>F   </td><td>57  </td><td>2   </td></tr>\n",
       "\t<tr><th scope=row>891</th><td>136A</td><td>68.5</td><td>65  </td><td>M   </td><td>72  </td><td>8   </td></tr>\n",
       "\t<tr><th scope=row>892</th><td>136A</td><td>68.5</td><td>65  </td><td>M   </td><td>70.5</td><td>8   </td></tr>\n",
       "\t<tr><th scope=row>893</th><td>136A</td><td>68.5</td><td>65  </td><td>M   </td><td>68.7</td><td>8   </td></tr>\n",
       "\t<tr><th scope=row>894</th><td>136A</td><td>68.5</td><td>65  </td><td>M   </td><td>68.5</td><td>8   </td></tr>\n",
       "\t<tr><th scope=row>895</th><td>136A</td><td>68.5</td><td>65  </td><td>M   </td><td>67.7</td><td>8   </td></tr>\n",
       "\t<tr><th scope=row>896</th><td>136A</td><td>68.5</td><td>65  </td><td>F   </td><td>64  </td><td>8   </td></tr>\n",
       "\t<tr><th scope=row>897</th><td>136A</td><td>68.5</td><td>65  </td><td>F   </td><td>63.5</td><td>8   </td></tr>\n",
       "\t<tr><th scope=row>898</th><td>136A</td><td>68.5</td><td>65  </td><td>F   </td><td>63  </td><td>8   </td></tr>\n",
       "</tbody>\n",
       "</table>\n"
      ],
      "text/latex": [
       "\\begin{tabular}{r|llllll}\n",
       "  & Family & Father & Mother & Gender & Height & Kids\\\\\n",
       "\\hline\n",
       "\t1 & 1    & 78.5 & 67   & M    & 73.2 & 4   \\\\\n",
       "\t2 & 1    & 78.5 & 67   & F    & 69.2 & 4   \\\\\n",
       "\t3 & 1    & 78.5 & 67   & F    & 69   & 4   \\\\\n",
       "\t4 & 1    & 78.5 & 67   & F    & 69   & 4   \\\\\n",
       "\t5 & 2    & 75.5 & 66.5 & M    & 73.5 & 4   \\\\\n",
       "\t6 & 2    & 75.5 & 66.5 & M    & 72.5 & 4   \\\\\n",
       "\t7 & 2    & 75.5 & 66.5 & F    & 65.5 & 4   \\\\\n",
       "\t8 & 2    & 75.5 & 66.5 & F    & 65.5 & 4   \\\\\n",
       "\t9 & 3  & 75 & 64 & M  & 71 & 2 \\\\\n",
       "\t10 & 3  & 75 & 64 & F  & 68 & 2 \\\\\n",
       "\t11 & 4    & 75   & 64   & M    & 70.5 & 5   \\\\\n",
       "\t12 & 4    & 75   & 64   & M    & 68.5 & 5   \\\\\n",
       "\t13 & 4  & 75 & 64 & F  & 67 & 5 \\\\\n",
       "\t14 & 4    & 75   & 64   & F    & 64.5 & 5   \\\\\n",
       "\t15 & 4  & 75 & 64 & F  & 63 & 5 \\\\\n",
       "\t16 & 5    & 75   & 58.5 & M    & 72   & 6   \\\\\n",
       "\t17 & 5    & 75   & 58.5 & M    & 69   & 6   \\\\\n",
       "\t18 & 5    & 75   & 58.5 & M    & 68   & 6   \\\\\n",
       "\t19 & 5    & 75   & 58.5 & F    & 66.5 & 6   \\\\\n",
       "\t20 & 5    & 75   & 58.5 & F    & 62.5 & 6   \\\\\n",
       "\t21 & 5    & 75   & 58.5 & F    & 62.5 & 6   \\\\\n",
       "\t22 & 6    & 74   & 68   & F    & 69.5 & 1   \\\\\n",
       "\t23 & 7    & 74   & 68   & M    & 76.5 & 6   \\\\\n",
       "\t24 & 7  & 74 & 68 & M  & 74 & 6 \\\\\n",
       "\t25 & 7  & 74 & 68 & M  & 73 & 6 \\\\\n",
       "\t26 & 7  & 74 & 68 & M  & 73 & 6 \\\\\n",
       "\t27 & 7    & 74   & 68   & F    & 70.5 & 6   \\\\\n",
       "\t28 & 7  & 74 & 68 & F  & 64 & 6 \\\\\n",
       "\t29 & 8    & 74   & 66.5 & F    & 70.5 & 3   \\\\\n",
       "\t30 & 8    & 74   & 66.5 & F    & 68   & 3   \\\\\n",
       "\t⋮ & ⋮ & ⋮ & ⋮ & ⋮ & ⋮ & ⋮\\\\\n",
       "\t869 & 198  & 64   & 64   & M    & 71.5 & 7   \\\\\n",
       "\t870 & 198 & 64  & 64  & M   & 68  & 7  \\\\\n",
       "\t871 & 198  & 64   & 64   & F    & 65.5 & 7   \\\\\n",
       "\t872 & 198 & 64  & 64  & F   & 64  & 7  \\\\\n",
       "\t873 & 198 & 64  & 64  & F   & 62  & 7  \\\\\n",
       "\t874 & 198 & 64  & 64  & F   & 62  & 7  \\\\\n",
       "\t875 & 198 & 64  & 64  & F   & 61  & 7  \\\\\n",
       "\t876 & 199  & 64   & 64   & M    & 70.5 & 7   \\\\\n",
       "\t877 & 199 & 64  & 64  & M   & 68  & 7  \\\\\n",
       "\t878 & 199 & 64  & 64  & F   & 67  & 7  \\\\\n",
       "\t879 & 199 & 64  & 64  & F   & 65  & 7  \\\\\n",
       "\t880 & 199 & 64  & 64  & F   & 64  & 7  \\\\\n",
       "\t881 & 199 & 64  & 64  & F   & 64  & 7  \\\\\n",
       "\t882 & 199 & 64  & 64  & F   & 60  & 7  \\\\\n",
       "\t883 & 200  & 64   & 63   & M    & 64.5 & 1   \\\\\n",
       "\t884 & 201 & 64  & 60  & M   & 66  & 2  \\\\\n",
       "\t885 & 201 & 64  & 60  & F   & 60  & 2  \\\\\n",
       "\t886 & 203 & 62  & 66  & M   & 64  & 3  \\\\\n",
       "\t887 & 203 & 62  & 66  & F   & 62  & 3  \\\\\n",
       "\t888 & 203 & 62  & 66  & F   & 61  & 3  \\\\\n",
       "\t889 & 204  & 62.5 & 63   & M    & 66.5 & 2   \\\\\n",
       "\t890 & 204  & 62.5 & 63   & F    & 57   & 2   \\\\\n",
       "\t891 & 136A & 68.5 & 65   & M    & 72   & 8   \\\\\n",
       "\t892 & 136A & 68.5 & 65   & M    & 70.5 & 8   \\\\\n",
       "\t893 & 136A & 68.5 & 65   & M    & 68.7 & 8   \\\\\n",
       "\t894 & 136A & 68.5 & 65   & M    & 68.5 & 8   \\\\\n",
       "\t895 & 136A & 68.5 & 65   & M    & 67.7 & 8   \\\\\n",
       "\t896 & 136A & 68.5 & 65   & F    & 64   & 8   \\\\\n",
       "\t897 & 136A & 68.5 & 65   & F    & 63.5 & 8   \\\\\n",
       "\t898 & 136A & 68.5 & 65   & F    & 63   & 8   \\\\\n",
       "\\end{tabular}\n"
      ],
      "text/plain": [
       "    Family Father Mother Gender Height Kids\n",
       "1        1   78.5     67      M   73.2    4\n",
       "2        1   78.5     67      F   69.2    4\n",
       "3        1   78.5     67      F     69    4\n",
       "4        1   78.5     67      F     69    4\n",
       "5        2   75.5   66.5      M   73.5    4\n",
       "6        2   75.5   66.5      M   72.5    4\n",
       "7        2   75.5   66.5      F   65.5    4\n",
       "8        2   75.5   66.5      F   65.5    4\n",
       "9        3     75     64      M     71    2\n",
       "10       3     75     64      F     68    2\n",
       "11       4     75     64      M   70.5    5\n",
       "12       4     75     64      M   68.5    5\n",
       "13       4     75     64      F     67    5\n",
       "14       4     75     64      F   64.5    5\n",
       "15       4     75     64      F     63    5\n",
       "16       5     75   58.5      M     72    6\n",
       "17       5     75   58.5      M     69    6\n",
       "18       5     75   58.5      M     68    6\n",
       "19       5     75   58.5      F   66.5    6\n",
       "20       5     75   58.5      F   62.5    6\n",
       "21       5     75   58.5      F   62.5    6\n",
       "22       6     74     68      F   69.5    1\n",
       "23       7     74     68      M   76.5    6\n",
       "24       7     74     68      M     74    6\n",
       "25       7     74     68      M     73    6\n",
       "26       7     74     68      M     73    6\n",
       "27       7     74     68      F   70.5    6\n",
       "28       7     74     68      F     64    6\n",
       "29       8     74   66.5      F   70.5    3\n",
       "30       8     74   66.5      F     68    3\n",
       "⋮        ⋮      ⋮      ⋮      ⋮      ⋮    ⋮\n",
       "869    198     64     64      M   71.5    7\n",
       "870    198     64     64      M     68    7\n",
       "871    198     64     64      F   65.5    7\n",
       "872    198     64     64      F     64    7\n",
       "873    198     64     64      F     62    7\n",
       "874    198     64     64      F     62    7\n",
       "875    198     64     64      F     61    7\n",
       "876    199     64     64      M   70.5    7\n",
       "877    199     64     64      M     68    7\n",
       "878    199     64     64      F     67    7\n",
       "879    199     64     64      F     65    7\n",
       "880    199     64     64      F     64    7\n",
       "881    199     64     64      F     64    7\n",
       "882    199     64     64      F     60    7\n",
       "883    200     64     63      M   64.5    1\n",
       "884    201     64     60      M     66    2\n",
       "885    201     64     60      F     60    2\n",
       "886    203     62     66      M     64    3\n",
       "887    203     62     66      F     62    3\n",
       "888    203     62     66      F     61    3\n",
       "889    204   62.5     63      M   66.5    2\n",
       "890    204   62.5     63      F     57    2\n",
       "891   136A   68.5     65      M     72    8\n",
       "892   136A   68.5     65      M   70.5    8\n",
       "893   136A   68.5     65      M   68.7    8\n",
       "894   136A   68.5     65      M   68.5    8\n",
       "895   136A   68.5     65      M   67.7    8\n",
       "896   136A   68.5     65      F     64    8\n",
       "897   136A   68.5     65      F   63.5    8\n",
       "898   136A   68.5     65      F     63    8"
      ]
     },
     "metadata": {},
     "output_type": "display_data"
    }
   ],
   "source": [
    "galton"
   ]
  },
  {
   "cell_type": "code",
   "execution_count": 16,
   "metadata": {
    "collapsed": false
   },
   "outputs": [
    {
     "data": {
      "text/plain": [
       "     Family        Father          Mother      Gender      Height     \n",
       " 185    : 15   Min.   :62.00   Min.   :58.00   F:433   Min.   :56.00  \n",
       " 166    : 11   1st Qu.:68.00   1st Qu.:63.00   M:465   1st Qu.:64.00  \n",
       " 66     : 11   Median :69.00   Median :64.00           Median :66.50  \n",
       " 130    : 10   Mean   :69.23   Mean   :64.08           Mean   :66.76  \n",
       " 136    : 10   3rd Qu.:71.00   3rd Qu.:65.50           3rd Qu.:69.70  \n",
       " 140    : 10   Max.   :78.50   Max.   :70.50           Max.   :79.00  \n",
       " (Other):831                                                          \n",
       "      Kids       \n",
       " Min.   : 1.000  \n",
       " 1st Qu.: 4.000  \n",
       " Median : 6.000  \n",
       " Mean   : 6.136  \n",
       " 3rd Qu.: 8.000  \n",
       " Max.   :15.000  \n",
       "                 "
      ]
     },
     "metadata": {},
     "output_type": "display_data"
    }
   ],
   "source": [
    "summary(galton)"
   ]
  },
  {
   "cell_type": "markdown",
   "metadata": {},
   "source": [
    "Let us calculate the linear regression for this data set! We will relate the Mother's height ('Mother' in the table) to the child's height ('Height' in the table). But how do we access the data just in these columns?"
   ]
  },
  {
   "cell_type": "code",
   "execution_count": 30,
   "metadata": {
    "collapsed": false
   },
   "outputs": [
    {
     "data": {
      "text/plain": [
       "   Min. 1st Qu.  Median    Mean 3rd Qu.    Max. \n",
       "  58.00   63.00   64.00   64.08   65.50   70.50 "
      ]
     },
     "metadata": {},
     "output_type": "display_data"
    }
   ],
   "source": [
    "summary(galton$Mother)"
   ]
  },
  {
   "cell_type": "markdown",
   "metadata": {},
   "source": [
    "R uses the '$' syntax to access a specific column's data from the data set."
   ]
  },
  {
   "cell_type": "code",
   "execution_count": 33,
   "metadata": {
    "collapsed": true
   },
   "outputs": [],
   "source": [
    "M_heights <- galton$Mother\n",
    "C_heights <- galton$Height"
   ]
  },
  {
   "cell_type": "code",
   "execution_count": 36,
   "metadata": {
    "collapsed": false
   },
   "outputs": [
    {
     "data": {
      "text/plain": [
       "\n",
       "Call:\n",
       "lm(formula = Height ~ Mother, data = galton)\n",
       "\n",
       "Coefficients:\n",
       "(Intercept)       Mother  \n",
       "    46.6908       0.3132  \n"
      ]
     },
     "metadata": {},
     "output_type": "display_data"
    }
   ],
   "source": [
    "lm(Height ~ Mother, galton)"
   ]
  },
  {
   "cell_type": "code",
   "execution_count": null,
   "metadata": {
    "collapsed": true
   },
   "outputs": [],
   "source": []
  }
 ],
 "metadata": {
  "kernelspec": {
   "display_name": "R",
   "language": "R",
   "name": "ir"
  },
  "language_info": {
   "codemirror_mode": "r",
   "file_extension": ".r",
   "mimetype": "text/x-r-source",
   "name": "R",
   "pygments_lexer": "r",
   "version": "3.3.1"
  }
 },
 "nbformat": 4,
 "nbformat_minor": 0
}
